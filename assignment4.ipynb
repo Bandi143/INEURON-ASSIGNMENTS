{
 "cells": [
  {
   "cell_type": "raw",
   "metadata": {},
   "source": [
    "1.1 Write a Python Program(with class concepts) to find the area of the triangle using the below\n",
    "formula.\n",
    "area = (s*(s-a)*(s-b)*(s-c)) ** 0.5\n",
    "Function to take the length of the sides of triangle from user should be defined in the parent\n",
    "class and function to calculate the area should be defined in subclass."
   ]
  },
  {
   "cell_type": "code",
   "execution_count": 1,
   "metadata": {},
   "outputs": [
    {
     "name": "stdout",
     "output_type": "stream",
     "text": [
      "enter the side A value:7\n",
      "enter the side B value:8\n",
      "enter the side C value:9\n",
      "the area of the triangel is : 26.832815729997478\n"
     ]
    }
   ],
   "source": [
    "class parent():\n",
    "    def user_input(side):\n",
    "        side.a=int(input('enter the side A value:'))\n",
    "        side.b=int(input('enter the side B value:'))\n",
    "        side.c=int(input('enter the side C value:'))\n",
    "        \n",
    "class child(parent):\n",
    "    def __init__(self):\n",
    "        super().user_input()\n",
    "        \n",
    "    def area(side):\n",
    "        a = side.a\n",
    "        b = side.b\n",
    "        c = side.c \n",
    "        s = (a + b + c )/2; \n",
    "        output=(s*(s-a)*(s-b)*(s-c))**0.5\n",
    "        \n",
    "        return output\n",
    "    \n",
    "trianlge=child()\n",
    "print('the area of the triangel is :',trianlge.area() )\n"
   ]
  },
  {
   "cell_type": "raw",
   "metadata": {},
   "source": [
    "1.2 Write a function filter_long_words() that takes a list of words and an integer n and returns\n",
    "the list of words that are longer than n."
   ]
  },
  {
   "cell_type": "code",
   "execution_count": 5,
   "metadata": {},
   "outputs": [
    {
     "data": {
      "text/plain": [
       "['North America', 'South America']"
      ]
     },
     "execution_count": 5,
     "metadata": {},
     "output_type": "execute_result"
    }
   ],
   "source": [
    "def filter_long_words(lst,n):\n",
    "    l=[]\n",
    "    for items in lst:\n",
    "        if len(items)>n:\n",
    "            l.append(items)\n",
    "    return l\n",
    "filter_long_words(['Asia', 'Africa', 'Europe', 'India', 'North America', 'Pakisthan', 'Antarctica', 'Austrila', 'South America'],10)\n"
   ]
  },
  {
   "cell_type": "raw",
   "metadata": {},
   "source": [
    "2.1 Write a Python program using function concept that maps list of words into a list of integers\n",
    "representing the lengths of the corresponding words.\n",
    "Hint: If a list [ ab,cde,erty] is passed on to the python function output should come as [2,3,4]\n",
    "Here 2,3 and 4 are the lengths of the words in the list."
   ]
  },
  {
   "cell_type": "code",
   "execution_count": 6,
   "metadata": {},
   "outputs": [
    {
     "data": {
      "text/plain": [
       "[12, 13, 15]"
      ]
     },
     "execution_count": 6,
     "metadata": {},
     "output_type": "execute_result"
    }
   ],
   "source": [
    "def words(x):\n",
    "    lis=[]\n",
    "    for items in x:\n",
    "        items=len(items)\n",
    "        lis.append(items)\n",
    "    return lis\n",
    "\n",
    "\n",
    "words(['Indian Ocean', 'Pacific Ocean', 'Antarctic Ocean'])"
   ]
  },
  {
   "cell_type": "raw",
   "metadata": {},
   "source": [
    "2.2 Write a Python function which takes a character (i.e. a string of length 1) and returns True if\n",
    "it is a vowel, False otherwise."
   ]
  },
  {
   "cell_type": "code",
   "execution_count": 10,
   "metadata": {},
   "outputs": [
    {
     "name": "stdout",
     "output_type": "stream",
     "text": [
      "True\n",
      "True\n",
      "False\n",
      "False\n"
     ]
    }
   ],
   "source": [
    "def isvowel(char):\n",
    "    vowels='a,e,i,o,u,A,E,I,O,U'\n",
    "    return char in vowels\n",
    "print(isvowel('i'))\n",
    "print(isvowel('e'))\n",
    "print(isvowel('n'))\n",
    "print(isvowel('r'))\n"
   ]
  },
  {
   "cell_type": "code",
   "execution_count": null,
   "metadata": {},
   "outputs": [],
   "source": []
  }
 ],
 "metadata": {
  "kernelspec": {
   "display_name": "Python 3",
   "language": "python",
   "name": "python3"
  },
  "language_info": {
   "codemirror_mode": {
    "name": "ipython",
    "version": 3
   },
   "file_extension": ".py",
   "mimetype": "text/x-python",
   "name": "python",
   "nbconvert_exporter": "python",
   "pygments_lexer": "ipython3",
   "version": "3.7.6"
  }
 },
 "nbformat": 4,
 "nbformat_minor": 4
}
